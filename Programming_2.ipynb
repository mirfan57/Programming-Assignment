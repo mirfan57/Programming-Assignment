{
 "cells": [
  {
   "cell_type": "markdown",
   "id": "e0592ce3",
   "metadata": {},
   "source": [
    "### Programming Assignment 2"
   ]
  },
  {
   "cell_type": "code",
   "execution_count": 2,
   "id": "b45fa38d",
   "metadata": {},
   "outputs": [
    {
     "name": "stdout",
     "output_type": "stream",
     "text": [
      "Enter distance in kms: 55\n",
      "55 kilometers = 34.175415449999996 miles\n"
     ]
    }
   ],
   "source": [
    "#1.\tWrite a Python program to convert kilometers to miles?\n",
    "kilo = int(input(\"Enter distance in kms: \"))\n",
    "conv_factor = 0.62137119\n",
    "miles = kilo * conv_factor\n",
    "print(\"{} kilometers = {} miles\".format(kilo, miles))"
   ]
  },
  {
   "cell_type": "code",
   "execution_count": 7,
   "id": "5adaba31",
   "metadata": {},
   "outputs": [
    {
     "name": "stdout",
     "output_type": "stream",
     "text": [
      "Enter temperature in Celcius: 45\n",
      "45 Celcius = 113 Farenheit\n"
     ]
    }
   ],
   "source": [
    "#2.\tWrite a Python program to convert Celsius to Fahrenheit?\n",
    "cel = int(input(\"Enter temperature in Celcius: \"))\n",
    "factor = (9/5)\n",
    "far = cel * factor + 32\n",
    "print(\"{} Celcius = {} Farenheit\".format(cel, int(far)))"
   ]
  },
  {
   "cell_type": "code",
   "execution_count": null,
   "id": "a3ec76ae",
   "metadata": {},
   "outputs": [],
   "source": [
    "#3.\tWrite a Python program to display calendar?\n",
    "import calendar\n",
    " \n",
    "year = int(input(\"Enter the year: \")) \n",
    "print(calendar.calendar(year))"
   ]
  },
  {
   "cell_type": "code",
   "execution_count": 10,
   "id": "8c67645e",
   "metadata": {},
   "outputs": [
    {
     "name": "stdout",
     "output_type": "stream",
     "text": [
      "Enter coeff of x**2: 4\n",
      "Enter coeff of x: 5.3\n",
      "Enter constant term: 5.2\n",
      "The solution are (-0.6625-0.9279513726483732j) and (-0.6625+0.9279513726483732j)\n"
     ]
    }
   ],
   "source": [
    "#4.\tWrite a Python program to solve quadratic equation?\n",
    "\n",
    "import cmath\n",
    "# quadratic_eqn: ax**2 + bx + c\n",
    "a = float(input(\"Enter coeff of x**2: \"))\n",
    "b = float(input(\"Enter coeff of x: \"))\n",
    "c = float(input(\"Enter constant term: \"))\n",
    "\n",
    "discriminant = b**2 - 4*a*c\n",
    "\n",
    "root1 = (-b - (cmath.sqrt(discriminant)))/(2*a)\n",
    "root2 = (-b + (cmath.sqrt(discriminant)))/(2*a)\n",
    "\n",
    "print('The solution are {} and {}'.format(root1,root2))"
   ]
  },
  {
   "cell_type": "code",
   "execution_count": 14,
   "id": "4e663598",
   "metadata": {},
   "outputs": [
    {
     "name": "stdout",
     "output_type": "stream",
     "text": [
      "Enter value of a: 4.34\n",
      "Enter value of b: 6.34\n",
      "Before swapping: value of a is 4.34 and value of b is 6.34\n",
      "After swapping: value of a is 6.34 and value of b is 4.34\n"
     ]
    }
   ],
   "source": [
    "#5.\tWrite a Python program to swap two variables without temp variable?\n",
    "\n",
    "a = float(input(\"Enter value of a: \"))\n",
    "b = float(input(\"Enter value of b: \"))\n",
    " \n",
    "print (\"Before swapping: value of a is {} and value of b is {}\".format(a, b))\n",
    " \n",
    "\n",
    "a = a + b \n",
    "b = a - b\n",
    "a = a - b \n",
    " \n",
    "print (\"After swapping: value of a is {} and value of b is {}\".format(a, b))"
   ]
  }
 ],
 "metadata": {
  "kernelspec": {
   "display_name": "Python 3",
   "language": "python",
   "name": "python3"
  },
  "language_info": {
   "codemirror_mode": {
    "name": "ipython",
    "version": 3
   },
   "file_extension": ".py",
   "mimetype": "text/x-python",
   "name": "python",
   "nbconvert_exporter": "python",
   "pygments_lexer": "ipython3",
   "version": "3.8.8"
  }
 },
 "nbformat": 4,
 "nbformat_minor": 5
}
