{
 "cells": [
  {
   "cell_type": "markdown",
   "id": "a673e881",
   "metadata": {},
   "source": [
    "### Programming Assignment 10"
   ]
  },
  {
   "cell_type": "markdown",
   "id": "7ad4953a",
   "metadata": {},
   "source": [
    "##### 1. Write a Python program to find sum of elements in list?"
   ]
  },
  {
   "cell_type": "code",
   "execution_count": 3,
   "id": "36f72b5b",
   "metadata": {},
   "outputs": [
    {
     "name": "stdout",
     "output_type": "stream",
     "text": [
      "Enter the No of Entries in a List: 4\n",
      "Enter a element: 7\n",
      "Enter a element: 4\n",
      "Enter a element: 7\n",
      "Enter a element: 8\n",
      "Sum of Elements: 26\n"
     ]
    }
   ],
   "source": [
    "def sumElements():\n",
    "    num_entries = int(input('Enter the No of Entries in a List: '))\n",
    "    my_list = []\n",
    "    for ele in range(num_entries):\n",
    "        my_list.append(int(input('Enter a element: ')))\n",
    "    print(f'Sum of Elements: {sum(my_list)}')\n",
    "\n",
    "sumElements()"
   ]
  },
  {
   "cell_type": "markdown",
   "id": "6bb4cf2c",
   "metadata": {},
   "source": [
    "##### 2. Write a Python program to  Multiply all numbers in the list?"
   ]
  },
  {
   "cell_type": "code",
   "execution_count": 8,
   "id": "330c1b4d",
   "metadata": {},
   "outputs": [
    {
     "name": "stdout",
     "output_type": "stream",
     "text": [
      "Enter the No of Entries in a List: 5\n",
      "Enter an element: 1\n",
      "Enter an element: 2\n",
      "Enter an element: 10\n",
      "Enter an element: 3\n",
      "Enter an element: 6\n",
      "Multiplication of Elements: 360\n"
     ]
    }
   ],
   "source": [
    "from functools import reduce\n",
    "\n",
    "def mulElements():\n",
    "    num_entries = int(input('Enter the No of Entries in a List: '))\n",
    "    my_list = []\n",
    "    for ele in range(num_entries):\n",
    "        my_list.append(int(input('Enter an element: ')))\n",
    "    print(f'Multiplication of Elements: {reduce(lambda x,y: x*y, my_list)}')\n",
    "\n",
    "mulElements()"
   ]
  },
  {
   "cell_type": "markdown",
   "id": "457786b0",
   "metadata": {},
   "source": [
    "##### 3. Write a Python program to find smallest number in a list?"
   ]
  },
  {
   "cell_type": "code",
   "execution_count": 12,
   "id": "ecbc66ba",
   "metadata": {},
   "outputs": [
    {
     "name": "stdout",
     "output_type": "stream",
     "text": [
      "Enter the No of Entries in a List: 6\n",
      "Enter an element: 34\n",
      "Enter an element: 54\n",
      "Enter an element: 23\n",
      "Enter an element: 67\n",
      "Enter an element: 89\n",
      "Enter an element: 4\n",
      "Smallest number in given list of Elements is: 4\n"
     ]
    }
   ],
   "source": [
    "def smallnum():\n",
    "    entries = int(input('Enter the No of Entries in a List: '))\n",
    "    l = []\n",
    "    for i in range(entries):\n",
    "        l.append(int(input('Enter an element: ')))\n",
    "    a = sorted(l)\n",
    "    print(f'Smallest number in given list of Elements is: {a[0]}')\n",
    "\n",
    "smallnum()"
   ]
  },
  {
   "cell_type": "markdown",
   "id": "54d3cc65",
   "metadata": {},
   "source": [
    "##### 4. Write a Python program to find largest number in a list?"
   ]
  },
  {
   "cell_type": "code",
   "execution_count": 14,
   "id": "83239d32",
   "metadata": {},
   "outputs": [
    {
     "name": "stdout",
     "output_type": "stream",
     "text": [
      "Enter the No of Entries in a List: 5\n",
      "Enter an element: 45\n",
      "Enter an element: 64\n",
      "Enter an element: 33\n",
      "Enter an element: 78\n",
      "Enter an element: 55\n",
      "Largest number in given list of Elements is: 78\n"
     ]
    }
   ],
   "source": [
    "def largenum():\n",
    "    entries = int(input('Enter the No of Entries in a List: '))\n",
    "    l = []\n",
    "    for i in range(entries):\n",
    "        l.append(int(input('Enter an element: ')))\n",
    "    a = sorted(l, reverse = True)\n",
    "    print(f'Largest number in given list of Elements is: {a[0]}')\n",
    "\n",
    "largenum()"
   ]
  },
  {
   "cell_type": "markdown",
   "id": "9f9fe60f",
   "metadata": {},
   "source": [
    "##### 5. Write a Python program to find second largest number in a list?"
   ]
  },
  {
   "cell_type": "code",
   "execution_count": 16,
   "id": "25b879d9",
   "metadata": {},
   "outputs": [
    {
     "name": "stdout",
     "output_type": "stream",
     "text": [
      "Enter the No of Entries in a List: 4\n",
      "Enter an element: 23\n",
      "Enter an element: 56\n",
      "Enter an element: 34\n",
      "Enter an element: 44\n",
      "Second largest number in given list of Elements is: 44\n"
     ]
    }
   ],
   "source": [
    "def largenum():\n",
    "    entries = int(input('Enter the No of Entries in a List: '))\n",
    "    l = []\n",
    "    for i in range(entries):\n",
    "        l.append(int(input('Enter an element: ')))\n",
    "    a = sorted(l, reverse = True)\n",
    "    print(f'Second largest number in given list of Elements is: {a[1]}')\n",
    "\n",
    "largenum()"
   ]
  },
  {
   "cell_type": "markdown",
   "id": "c34432bc",
   "metadata": {},
   "source": [
    "##### 6. Write a Python program to find N largest elements from a list?"
   ]
  },
  {
   "cell_type": "code",
   "execution_count": 18,
   "id": "c0307b7e",
   "metadata": {},
   "outputs": [
    {
     "name": "stdout",
     "output_type": "stream",
     "text": [
      "Enter the No of Entries in a List: 5\n",
      "Enter an element: 45\n",
      "Enter an element: 66\n",
      "Enter an element: 34\n",
      "Enter an element: 25\n",
      "Enter an element: 78\n",
      "2 largest number in given list of Elements is: 66\n"
     ]
    }
   ],
   "source": [
    "def largenum(N):\n",
    "    entries = int(input('Enter the No of Entries in a List: '))\n",
    "    l = []\n",
    "    for i in range(entries):\n",
    "        l.append(int(input('Enter an element: ')))\n",
    "    a = sorted(l, reverse = True)\n",
    "    print(f'{N} largest number in given list of Elements is: {a[N-1]}')\n",
    "\n",
    "largenum(2)"
   ]
  },
  {
   "cell_type": "markdown",
   "id": "c6d02e6c",
   "metadata": {},
   "source": [
    "##### 7. Write a Python program to print even numbers in a list?"
   ]
  },
  {
   "cell_type": "code",
   "execution_count": 21,
   "id": "55c118ae",
   "metadata": {},
   "outputs": [
    {
     "name": "stdout",
     "output_type": "stream",
     "text": [
      "Enter the No of Entries in a List: 4\n",
      "Enter an element: 34\n",
      "Enter an element: 56\n",
      "Enter an element: 23\n",
      "Enter an element: 79\n",
      "Input list: [34, 56, 23, 79]\n",
      "Even numbers in given list are: [34, 56]\n"
     ]
    }
   ],
   "source": [
    "def even_num():\n",
    "    num_entries = int(input('Enter the No of Entries in a List: '))\n",
    "    my_list = []\n",
    "    for ele in range(num_entries):\n",
    "        my_list.append(int(input('Enter an element: ')))\n",
    "    print(f'Input list: {my_list}')\n",
    "    print(f'Even numbers in given list are: {[i for i in my_list if i%2 == 0]}')\n",
    "\n",
    "even_num()"
   ]
  },
  {
   "cell_type": "markdown",
   "id": "e71a9e06",
   "metadata": {},
   "source": [
    "##### 8. Write a Python program to print odd numbers in a List?"
   ]
  },
  {
   "cell_type": "code",
   "execution_count": 22,
   "id": "607d4dcc",
   "metadata": {},
   "outputs": [
    {
     "name": "stdout",
     "output_type": "stream",
     "text": [
      "Enter the No of Entries in a List: 4\n",
      "Enter an element: 323\n",
      "Enter an element: 425\n",
      "Enter an element: 222\n",
      "Enter an element: 466\n",
      "Input list: [323, 425, 222, 466]\n",
      "Odd numbers in given list are: [323, 425]\n"
     ]
    }
   ],
   "source": [
    "def odd_num():\n",
    "    num_entries = int(input('Enter the No of Entries in a List: '))\n",
    "    my_list = []\n",
    "    for ele in range(num_entries):\n",
    "        my_list.append(int(input('Enter an element: ')))\n",
    "    print(f'Input list: {my_list}')\n",
    "    print(f'Odd numbers in given list are: {[i for i in my_list if i%2 != 0]}')\n",
    "\n",
    "odd_num()"
   ]
  },
  {
   "cell_type": "markdown",
   "id": "400e711a",
   "metadata": {},
   "source": [
    "##### 9. Write a Python program to Remove empty List from List?"
   ]
  },
  {
   "cell_type": "code",
   "execution_count": 24,
   "id": "401dea07",
   "metadata": {},
   "outputs": [
    {
     "name": "stdout",
     "output_type": "stream",
     "text": [
      "Enter the elements in List: [3,45,7,3,[],5,34,22]\n",
      "There is an empty list at position 4\n",
      "List after removing empty list is [3, 45, 7, 3, 5, 34, 22]\n"
     ]
    }
   ],
   "source": [
    "def remove_empty_list(): \n",
    "    my_list = eval(input('Enter the elements in List: '))\n",
    "    if [] in my_list:\n",
    "        print(f'There is an empty list at position {my_list.index([]).}')\n",
    "        my_list.remove([])\n",
    "        print(f'List after removing empty list is {my_list}')\n",
    "    else:\n",
    "        print('There are no empty lists.')\n",
    "    \n",
    "remove_empty_list()"
   ]
  },
  {
   "cell_type": "markdown",
   "id": "0d7d5dff",
   "metadata": {},
   "source": [
    "##### 10. Write a Python program to Cloning or Copying a list?"
   ]
  },
  {
   "cell_type": "code",
   "execution_count": 31,
   "id": "1647c881",
   "metadata": {},
   "outputs": [
    {
     "name": "stdout",
     "output_type": "stream",
     "text": [
      "Enter a list [4,36,88,66,99]\n",
      "Original list is [4, 36, 88, 66, 99]\n",
      "Cloned list is [4, 36, 88, 66, 99]\n"
     ]
    }
   ],
   "source": [
    "import copy\n",
    "\n",
    "def clonelist():\n",
    "    my_list = eval(input('Enter a list '))\n",
    "    print(f'Original list is {my_list}')\n",
    "    cloned_list = my_list.copy()\n",
    "    print(f'Cloned list is {cloned_list}')\n",
    "\n",
    "clonelist()"
   ]
  },
  {
   "cell_type": "markdown",
   "id": "e09e1c21",
   "metadata": {},
   "source": [
    "##### 11. Write a Python program to Count occurrences of an element in a list?"
   ]
  },
  {
   "cell_type": "code",
   "execution_count": 28,
   "id": "24dd88a9",
   "metadata": {},
   "outputs": [
    {
     "name": "stdout",
     "output_type": "stream",
     "text": [
      "Enter the elements of list [3,4,5,5,3,2,4,4]\n",
      "Enter the number you want to check 4\n",
      "There are 3 occurences of 4 in [3, 4, 5, 5, 3, 2, 4, 4]\n"
     ]
    }
   ],
   "source": [
    "def occurence():\n",
    "    my_list = eval(input('Enter the elements of list '))\n",
    "    num = eval(input('Enter the number you want to check '))\n",
    "    \n",
    "#l=[2,4,5,4,2,4,5,4]\n",
    "    if num in my_list:\n",
    "        count = 0\n",
    "        for element in my_list:\n",
    "            if element == num:\n",
    "                count += 1\n",
    "    print(f'There are {count} occurences of {num} in {my_list}')\n",
    "\n",
    "occurence()"
   ]
  }
 ],
 "metadata": {
  "kernelspec": {
   "display_name": "Python 3",
   "language": "python",
   "name": "python3"
  },
  "language_info": {
   "codemirror_mode": {
    "name": "ipython",
    "version": 3
   },
   "file_extension": ".py",
   "mimetype": "text/x-python",
   "name": "python",
   "nbconvert_exporter": "python",
   "pygments_lexer": "ipython3",
   "version": "3.8.8"
  }
 },
 "nbformat": 4,
 "nbformat_minor": 5
}
