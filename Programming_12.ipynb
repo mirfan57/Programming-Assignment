{
 "cells": [
  {
   "cell_type": "markdown",
   "id": "99897376",
   "metadata": {},
   "source": [
    "### Programming Assignment 12"
   ]
  },
  {
   "cell_type": "markdown",
   "id": "691b0cd0",
   "metadata": {},
   "source": [
    "##### 1.\tWrite a Python program to Extract Unique values dictionary values?"
   ]
  },
  {
   "cell_type": "code",
   "execution_count": 1,
   "id": "684e3a3e",
   "metadata": {},
   "outputs": [
    {
     "name": "stdout",
     "output_type": "stream",
     "text": [
      "Original Values are --> dict_values(['Physics', 'Chemistry', 'Biology', 'Physics', 'Geology', 'Biology', 'Physics'])\n",
      "Unique Values are --> ['Geology', 'Physics', 'Biology', 'Chemistry']\n"
     ]
    }
   ],
   "source": [
    "my_dictionary = {1:'Physics',2:'Chemistry',3:'Biology',4:'Physics',5:'Geology',6:'Biology',7:'Physics'}\n",
    "dict_values = my_dictionary.values()\n",
    "print(f'Original Values are --> {dict_values}')\n",
    "print(f'Unique Values are --> {list(set(dict_values))}')"
   ]
  },
  {
   "cell_type": "markdown",
   "id": "4cb38416",
   "metadata": {},
   "source": [
    "##### 2.\tWrite a Python program to find the sum of all items in a dictionary?"
   ]
  },
  {
   "cell_type": "code",
   "execution_count": 2,
   "id": "8d425f5d",
   "metadata": {},
   "outputs": [
    {
     "name": "stdout",
     "output_type": "stream",
     "text": [
      "Sum of all items of dictionary is -->  320\n"
     ]
    }
   ],
   "source": [
    "my_dict = {'Carrot':45,'Raddish':30,'Sweet Potato':80,'Beet root':150,'Onion':15}\n",
    "print('Sum of all items of dictionary is --> ',sum(my_dict.values()))"
   ]
  },
  {
   "cell_type": "markdown",
   "id": "17e40aa6",
   "metadata": {},
   "source": [
    "##### 3.\tWrite a Python program to Merging two Dictionaries?"
   ]
  },
  {
   "cell_type": "code",
   "execution_count": 5,
   "id": "84767d13",
   "metadata": {},
   "outputs": [
    {
     "name": "stdout",
     "output_type": "stream",
     "text": [
      "{'car': ['Swift', 'Honda', 'Maruti'], ('SUV', 'SEDAN', 'Mini'): {'White', 'Black', 'Red'}}\n"
     ]
    }
   ],
   "source": [
    "car_types = {'car':['Swift','Honda','Maruti']}\n",
    "car_models = {('SUV','SEDAN','Mini'):{'Red','White','Black'}}\n",
    "car_types.update(car_models)\n",
    "print(car_types)"
   ]
  },
  {
   "cell_type": "markdown",
   "id": "0f8711a0",
   "metadata": {},
   "source": [
    "##### 4.\tWrite a Python program to convert key-values list to flat dictionary?"
   ]
  },
  {
   "cell_type": "code",
   "execution_count": 11,
   "id": "0c071e08",
   "metadata": {},
   "outputs": [
    {
     "name": "stdout",
     "output_type": "stream",
     "text": [
      "Flat dictionary generated --> {'a': 1, 'b': 2, 'c': 3, 'd': 4, 'e': 5, 'f': 6, 'g': 7, 'h': 8, 'i': 9}\n"
     ]
    }
   ],
   "source": [
    "input_list = [('a',1),('b',2),('c',3),('d',4),('e',5),('f',6),('g',7),('h',8),('i',9)]\n",
    "\n",
    "output_dict = {}\n",
    "for item in input_list:\n",
    "    output_dict[item[0]] = item[1]\n",
    "print(f'Flat dictionary generated --> {output_dict}')"
   ]
  },
  {
   "cell_type": "markdown",
   "id": "f6a7b289",
   "metadata": {},
   "source": [
    "##### 5.\tWrite a Python program to insertion at the beginning in OrderedDict?"
   ]
  },
  {
   "cell_type": "code",
   "execution_count": 15,
   "id": "c4ec711d",
   "metadata": {},
   "outputs": [
    {
     "name": "stdout",
     "output_type": "stream",
     "text": [
      "Initial dictionary --> OrderedDict([('car', 'mercedes'), ('bike', 'ducati'), ('sedan', 'scorpio')])\n",
      "Updated dictionary --> OrderedDict([('car', 'mercedes'), ('bike', 'ducati'), ('sedan', 'scorpio'), ('SUV', 'safari')])\n",
      "Final dictionary --> OrderedDict([('SUV', 'safari'), ('car', 'mercedes'), ('bike', 'ducati'), ('sedan', 'scorpio')])\n"
     ]
    }
   ],
   "source": [
    "from collections import OrderedDict\n",
    "dict_one = OrderedDict({'car':'mercedes','bike':'ducati','sedan':'scorpio'})\n",
    "print('Initial dictionary -->',dict_one)\n",
    "dict_two = {'SUV':'safari'}\n",
    "dict_one.update(dict_two)\n",
    "print('Updated dictionary -->',dict_one)\n",
    "dict_one.move_to_end('SUV',last=False)\n",
    "print('Final dictionary -->',dict_one)"
   ]
  },
  {
   "cell_type": "markdown",
   "id": "adb89d21",
   "metadata": {},
   "source": [
    "##### 6.\tWrite a Python program to check order of character in string using OrderedDict()?"
   ]
  },
  {
   "cell_type": "code",
   "execution_count": 13,
   "id": "9e2e9a07",
   "metadata": {},
   "outputs": [
    {
     "name": "stdout",
     "output_type": "stream",
     "text": [
      "My dictionary initially: {'k': 35, 's': 20, 'i': 25, 'q': 15, 'x': 50}\n",
      "After applying OrderedDict: OrderedDict([('i', 25), ('k', 35), ('q', 15), ('s', 20), ('x', 50)])\n"
     ]
    }
   ],
   "source": [
    "from collections import OrderedDict\n",
    "\n",
    "initial_dict = {'k': 35, 's': 20, 'i': 25, 'q': 15, 'x': 50}\n",
    "print(\"My dictionary initially:\",initial_dict)\n",
    "\n",
    "final_dict = OrderedDict(sorted(initial_dict.items()))\n",
    "print(\"After applying OrderedDict:\",final_dict)"
   ]
  },
  {
   "cell_type": "markdown",
   "id": "fdab78a6",
   "metadata": {},
   "source": [
    "##### 7.\tWrite a Python program to sort Python Dictionaries by Key or Value?"
   ]
  },
  {
   "cell_type": "code",
   "execution_count": 9,
   "id": "81a2c574",
   "metadata": {},
   "outputs": [
    {
     "name": "stdout",
     "output_type": "stream",
     "text": [
      "[('data', 9), ('full', 3), ('ineuron', 1), ('stack', 7)]\n",
      "[('ineuron', 1), ('full', 3), ('stack', 7), ('data', 9)]\n"
     ]
    }
   ],
   "source": [
    "my_dict = {\"ineuron\":1, \"data\":9, \"full\":3, \"stack\":7}\n",
    "\n",
    "def sort_dict(my_dict, sort_by):\n",
    "    if sort_by == 'key':\n",
    "        print(sorted(my_dict.items(), key=lambda x:x[0]))\n",
    "    else:\n",
    "        print(sorted(my_dict.items(), key=lambda x:x[1]))\n",
    "        \n",
    "sort_dict(my_dict, 'key')\n",
    "sort_dict(my_dict, 'values')"
   ]
  }
 ],
 "metadata": {
  "kernelspec": {
   "display_name": "Python 3",
   "language": "python",
   "name": "python3"
  },
  "language_info": {
   "codemirror_mode": {
    "name": "ipython",
    "version": 3
   },
   "file_extension": ".py",
   "mimetype": "text/x-python",
   "name": "python",
   "nbconvert_exporter": "python",
   "pygments_lexer": "ipython3",
   "version": "3.8.8"
  }
 },
 "nbformat": 4,
 "nbformat_minor": 5
}
