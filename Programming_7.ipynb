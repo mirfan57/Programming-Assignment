{
 "cells": [
  {
   "cell_type": "markdown",
   "id": "11ab27a9",
   "metadata": {},
   "source": [
    "### Programming Assignment 7"
   ]
  },
  {
   "cell_type": "code",
   "execution_count": 2,
   "id": "09ccf282",
   "metadata": {},
   "outputs": [
    {
     "name": "stdout",
     "output_type": "stream",
     "text": [
      "Enter the array: [3,5,67,89]\n",
      "The sum of given array is 164\n"
     ]
    }
   ],
   "source": [
    "#1.\tWrite a Python Program to find sum of array?\n",
    "\n",
    "array = eval(input(\"Enter the array: \"))\n",
    "\n",
    "print(f'The sum of given array is {sum(array)}')"
   ]
  },
  {
   "cell_type": "code",
   "execution_count": 3,
   "id": "8d955ff7",
   "metadata": {},
   "outputs": [
    {
     "name": "stdout",
     "output_type": "stream",
     "text": [
      "Enter the array: [4,5,78,9,97]\n",
      "The largest element in given array is 97\n"
     ]
    }
   ],
   "source": [
    "#2.\tWrite a Python Program to find largest element in an array?\n",
    "\n",
    "array = eval(input(\"Enter the array: \"))\n",
    "\n",
    "print(f'The largest element in given array is {sorted(array, reverse = True)[0]}')"
   ]
  },
  {
   "cell_type": "code",
   "execution_count": 4,
   "id": "ccb77d10",
   "metadata": {},
   "outputs": [
    {
     "name": "stdout",
     "output_type": "stream",
     "text": [
      "Enter the array: [4,5,6,7,8]\n",
      "The rotated array of given array is [8, 7, 6, 5, 4]\n"
     ]
    }
   ],
   "source": [
    "#3.\tWrite a Python Program for array rotation?\n",
    "\n",
    "array = eval(input(\"Enter the array: \"))\n",
    "\n",
    "print(f'The rotated array of given array is {array[::-1]}')"
   ]
  },
  {
   "cell_type": "code",
   "execution_count": 7,
   "id": "b1b92056",
   "metadata": {},
   "outputs": [
    {
     "name": "stdout",
     "output_type": "stream",
     "text": [
      "Enter the array: [4,5,7,8,3]\n",
      "The sum of first part and end of given array is 7\n"
     ]
    }
   ],
   "source": [
    "#4.\tWrite a Python Program to Split the array and add the first part to the end?\n",
    "\n",
    "array = eval(input(\"Enter the array: \"))\n",
    "\n",
    "print(f'The sum of first part and end of given array is {array[0] + array[-1]}')"
   ]
  },
  {
   "cell_type": "code",
   "execution_count": 30,
   "id": "009b0aad",
   "metadata": {},
   "outputs": [
    {
     "name": "stdout",
     "output_type": "stream",
     "text": [
      "Enter the array: [7,8,9,10,15,24,56,23]\n",
      "Array [7, 8, 9, 10, 15, 24, 56, 23] is Not Monotonic.\n"
     ]
    }
   ],
   "source": [
    "#5.\tWrite a Python Program to check if given array is Monotonic?\n",
    "\n",
    "array = eval(input(\"Enter the array: \"))\n",
    "#array = [754,4356,6464,7445,9444]\n",
    "k = len(array)-1\n",
    "\n",
    "count1 = 0\n",
    "count2 = 0\n",
    "for ele in range(k):\n",
    "    if array[ele] >= array[ele+1]:\n",
    "        count1 += 1\n",
    "        \n",
    "for ele in range(k):\n",
    "    if array[ele] <= array[ele+1]:\n",
    "        count2 += 1\n",
    "            \n",
    "if count1 == k or count2 == k:\n",
    "    print(f'Array {array} is Monotonic.')\n",
    "else:\n",
    "    print(f'Array {array} is Not Monotonic.')"
   ]
  }
 ],
 "metadata": {
  "kernelspec": {
   "display_name": "Python 3",
   "language": "python",
   "name": "python3"
  },
  "language_info": {
   "codemirror_mode": {
    "name": "ipython",
    "version": 3
   },
   "file_extension": ".py",
   "mimetype": "text/x-python",
   "name": "python",
   "nbconvert_exporter": "python",
   "pygments_lexer": "ipython3",
   "version": "3.8.8"
  }
 },
 "nbformat": 4,
 "nbformat_minor": 5
}
