{
 "cells": [
  {
   "cell_type": "markdown",
   "id": "cb23dd7a",
   "metadata": {},
   "source": [
    "### Programming Assignment 4"
   ]
  },
  {
   "cell_type": "code",
   "execution_count": 5,
   "id": "71aceb8e",
   "metadata": {},
   "outputs": [
    {
     "data": {
      "text/plain": [
       "362880"
      ]
     },
     "execution_count": 5,
     "metadata": {},
     "output_type": "execute_result"
    }
   ],
   "source": [
    "#1.\tWrite a Python Program to Find the Factorial of a Number?\n",
    "\n",
    "def fact(n):\n",
    "    fac = 1\n",
    "    for i in range(1,n+1):\n",
    "        fac = fac * i\n",
    "    return fac\n",
    "\n",
    "fact(9)"
   ]
  },
  {
   "cell_type": "code",
   "execution_count": 12,
   "id": "1650e9b1",
   "metadata": {},
   "outputs": [
    {
     "name": "stdout",
     "output_type": "stream",
     "text": [
      "Enter a number: 6\n",
      "6 * 1 = 6\n",
      "6 * 2 = 12\n",
      "6 * 3 = 18\n",
      "6 * 4 = 24\n",
      "6 * 5 = 30\n",
      "6 * 6 = 36\n",
      "6 * 7 = 42\n",
      "6 * 8 = 48\n",
      "6 * 9 = 54\n",
      "6 * 10 = 60\n",
      "6 * 11 = 66\n",
      "6 * 12 = 72\n"
     ]
    }
   ],
   "source": [
    "#2.\tWrite a Python Program to Display the multiplication Table?\n",
    "\n",
    "def mul_table(n=int(input(\"Enter a number: \"))):\n",
    "    for i in range(1,13):\n",
    "        mult = n * i\n",
    "        print(\"{0} * {1} = {2}\".format(n,i,mult))\n",
    "\n",
    "mul_table()"
   ]
  },
  {
   "cell_type": "code",
   "execution_count": 17,
   "id": "5d2ee659",
   "metadata": {},
   "outputs": [
    {
     "name": "stdout",
     "output_type": "stream",
     "text": [
      "[1, 1, 2, 3, 5, 8, 13, 21, 34, 55]\n"
     ]
    }
   ],
   "source": [
    "#3.\tWrite a Python Program to Print the Fibonacci sequence?\n",
    "\n",
    "def fibonacci(n):\n",
    "    l=[]\n",
    "    a = 0\n",
    "    b = 1\n",
    "    for i in range(n):\n",
    "        a, b = b, a+b\n",
    "        l.append(a)\n",
    "    print(l)\n",
    "\n",
    "fibonacci(10)"
   ]
  },
  {
   "cell_type": "code",
   "execution_count": 38,
   "id": "964e276b",
   "metadata": {
    "scrolled": false
   },
   "outputs": [
    {
     "name": "stdout",
     "output_type": "stream",
     "text": [
      "Enter a number:565\n",
      "Sum is: 466\n",
      "This isn't an Armstrong Number.\n"
     ]
    }
   ],
   "source": [
    "#4.\tWrite a Python Program to Check Armstrong Number?\n",
    "\n",
    "#num = 371\n",
    "num = int(input(\"Enter a number:\"))\n",
    "\n",
    "l=[]\n",
    "p = len(str(num))\n",
    "\n",
    "for i in str(num):\n",
    "    l.append(int(i))\n",
    "#print(l)\n",
    "\n",
    "sum = 0\n",
    "for i in l:\n",
    "    sum =sum + (i**p)\n",
    "    #print(sum)\n",
    "print(\"Sum is:\",sum)\n",
    "\n",
    "if sum == int(num):\n",
    "    print(\"This is an Armstrong Number.\")\n",
    "else:\n",
    "    print(\"This isn't an Armstrong Number.\")"
   ]
  },
  {
   "cell_type": "code",
   "execution_count": 46,
   "id": "7f5f80a9",
   "metadata": {},
   "outputs": [
    {
     "name": "stdout",
     "output_type": "stream",
     "text": [
      "Enter upper limit:999\n",
      "List of Armstrong Numbers in range 0 to 999 are [0, 1, 2, 3, 4, 5, 6, 7, 8, 9, 153, 370, 371, 407]\n"
     ]
    }
   ],
   "source": [
    "#5.\tWrite a Python Program to Find Armstrong Number in an Interval?\n",
    "\n",
    "n = int(input(\"Enter upper limit:\"))\n",
    "l1=[]\n",
    "for i in range(n):\n",
    "    l=[]\n",
    "    p = len(str(i))\n",
    "\n",
    "    for j in str(i):\n",
    "        l.append(int(j))\n",
    "    #print(l)\n",
    "\n",
    "    sum = 0\n",
    "    for k in l:\n",
    "        sum =sum + (k**p)\n",
    "        #print(sum)\n",
    "    #print(\"Sum is:\",sum)\n",
    "    \n",
    "    if sum == int(i):\n",
    "        l1.append(i)\n",
    "print(\"List of Armstrong Numbers in range 0 to {} are {}\".format(n,l1))\n"
   ]
  },
  {
   "cell_type": "code",
   "execution_count": 45,
   "id": "f98f7a6d",
   "metadata": {},
   "outputs": [
    {
     "name": "stdout",
     "output_type": "stream",
     "text": [
      "Enter a natural number upto which you want to find the sum:100\n",
      "5050\n"
     ]
    }
   ],
   "source": [
    "#6.\tWrite a Python Program to Find the Sum of Natural Numbers?\n",
    "\n",
    "sum = 0\n",
    "n = int(input(\"Enter a natural number upto which you want to find the sum:\"))\n",
    "for i in range(1,n+1):\n",
    "    sum += i\n",
    "print(sum)"
   ]
  }
 ],
 "metadata": {
  "kernelspec": {
   "display_name": "Python 3",
   "language": "python",
   "name": "python3"
  },
  "language_info": {
   "codemirror_mode": {
    "name": "ipython",
    "version": 3
   },
   "file_extension": ".py",
   "mimetype": "text/x-python",
   "name": "python",
   "nbconvert_exporter": "python",
   "pygments_lexer": "ipython3",
   "version": "3.8.8"
  }
 },
 "nbformat": 4,
 "nbformat_minor": 5
}
