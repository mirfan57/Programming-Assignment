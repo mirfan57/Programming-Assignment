{
 "cells": [
  {
   "cell_type": "markdown",
   "id": "4a6b8071",
   "metadata": {},
   "source": [
    "### Programming Assignment 5"
   ]
  },
  {
   "cell_type": "code",
   "execution_count": 82,
   "id": "00cc8c6e",
   "metadata": {},
   "outputs": [
    {
     "name": "stdout",
     "output_type": "stream",
     "text": [
      "Enter first number: 54\n",
      "Enter second number: 35\n",
      "LCM of 54 and 35 is 1890.\n"
     ]
    }
   ],
   "source": [
    "#1.\tWrite a Python Program to Find LCM?\n",
    "\n",
    "a = int(input(\"Enter first number: \"))\n",
    "b = int(input(\"Enter second number: \"))\n",
    "\n",
    "if a > b:\n",
    "    big = a\n",
    "else:\n",
    "    big = b\n",
    "\n",
    "    \n",
    "for i in range(big, 0, -1):\n",
    "    mul = a * i\n",
    "    \n",
    "    for j in range(big,0,-1):\n",
    "        if b * j == mul:\n",
    "            x = mul\n",
    "print(f'LCM of {a} and {b} is {x}.')  "
   ]
  },
  {
   "cell_type": "code",
   "execution_count": 83,
   "id": "14db5f65",
   "metadata": {},
   "outputs": [
    {
     "name": "stdout",
     "output_type": "stream",
     "text": [
      "Enter first number: 1665\n",
      "Enter second number: 1591\n",
      "HCF of 1665 and 1591 is 37.\n"
     ]
    }
   ],
   "source": [
    "#2.\tWrite a Python Program to Find HCF?\n",
    "\n",
    "a = int(input(\"Enter first number: \"))\n",
    "b = int(input(\"Enter second number: \"))\n",
    "\n",
    "#if a>b:\n",
    "    #small = b\n",
    "#else:\n",
    "    #small = a\n",
    "\n",
    "for i in range(1,a+1):\n",
    "    if ((a % i == 0) and (b % i == 0)):\n",
    "        hcf = i\n",
    "print(f'HCF of {a} and {b} is {hcf}.')"
   ]
  },
  {
   "cell_type": "code",
   "execution_count": 84,
   "id": "c271cb20",
   "metadata": {},
   "outputs": [
    {
     "name": "stdout",
     "output_type": "stream",
     "text": [
      "Enter a decimal number to convert: 45\n",
      "Binary Number is 0b101101\n",
      "Octal Number is 0o55\n",
      "Hexadecimal Number is 0x2d\n"
     ]
    }
   ],
   "source": [
    "#3.\tWrite a Python Program to Convert Decimal to Binary, Octal and Hexadecimal?\n",
    "\n",
    "num = int(input('Enter a decimal number to convert: '))\n",
    "print(f'Binary Number is {bin(num)}')\n",
    "print(f'Octal Number is {oct(num)}')    \n",
    "print(f'Hexadecimal Number is {hex(num)}')    "
   ]
  },
  {
   "cell_type": "code",
   "execution_count": 85,
   "id": "5790c11b",
   "metadata": {},
   "outputs": [
    {
     "name": "stdout",
     "output_type": "stream",
     "text": [
      "Input a character whose ASCII value you want to print: %\n",
      "Ascii Value of % is 37\n"
     ]
    }
   ],
   "source": [
    "#4.\tWrite a Python Program To Find ASCII value of a character?\n",
    "\n",
    "a = input('Input a character whose ASCII value you want to print: ')\n",
    "if len(a) > 1:\n",
    "    print('Please Enter a Single Character')\n",
    "else:\n",
    "    print(f'Ascii Value of {a} is {ord(a)}')"
   ]
  },
  {
   "cell_type": "code",
   "execution_count": 13,
   "id": "89bd77e8",
   "metadata": {},
   "outputs": [
    {
     "name": "stdout",
     "output_type": "stream",
     "text": [
      "Enter first number: 343\n",
      "Enter second number: 223\n",
      "Enter operation you want to perform: -\n",
      "343.0-223.0=120.0\n"
     ]
    }
   ],
   "source": [
    "#5.\tWrite a Python Program to Make a Simple Calculator with 4 basic mathematical operations?\n",
    "\n",
    "import operator\n",
    "\n",
    "ops = { \"+\": operator.add, \"-\": operator.sub, \"*\":operator.mul, \"/\":operator.truediv } \n",
    "\n",
    "a = float(input(\"Enter first number: \"))\n",
    "b = float(input(\"Enter second number: \"))\n",
    "operator = input(\"Enter operation you want to perform: \")\n",
    "\n",
    "if operator not in ['+','-','*','/']:\n",
    "    print(\"Please enter a valid operator.\")\n",
    "else:\n",
    "    print(f'{a}{operator}{b}={ops[operator](a,b)}')"
   ]
  }
 ],
 "metadata": {
  "kernelspec": {
   "display_name": "Python 3",
   "language": "python",
   "name": "python3"
  },
  "language_info": {
   "codemirror_mode": {
    "name": "ipython",
    "version": 3
   },
   "file_extension": ".py",
   "mimetype": "text/x-python",
   "name": "python",
   "nbconvert_exporter": "python",
   "pygments_lexer": "ipython3",
   "version": "3.8.8"
  }
 },
 "nbformat": 4,
 "nbformat_minor": 5
}
