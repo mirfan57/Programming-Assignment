{
 "cells": [
  {
   "cell_type": "markdown",
   "id": "3ee9aafc",
   "metadata": {},
   "source": [
    "### Programming Assignemnt 11"
   ]
  },
  {
   "cell_type": "markdown",
   "id": "ec041034",
   "metadata": {},
   "source": [
    "##### 1. Write a Python program to find words which are greater than given length k?"
   ]
  },
  {
   "cell_type": "code",
   "execution_count": 11,
   "id": "2545d45f",
   "metadata": {},
   "outputs": [
    {
     "name": "stdout",
     "output_type": "stream",
     "text": [
      "Enter any string characters -> jack miller gareth bale eden hazard ronaldo messi\n",
      "Enter any length to check -> 5\n",
      "Words greater than given length 5 are --> miller,gareth,hazard,ronaldo\n"
     ]
    }
   ],
   "source": [
    "my_str = input('Enter any string characters -> ')\n",
    "k = int(input('Enter any length to check -> '))\n",
    "\n",
    "my_list=[]\n",
    "\n",
    "words = my_str.split(' ')\n",
    "for word in words:\n",
    "    if len(word) > k:\n",
    "        my_list.append(word)\n",
    "output = ','.join(my_list)\n",
    "print(f'Words greater than given length {k} are --> {output}')"
   ]
  },
  {
   "cell_type": "markdown",
   "id": "16590d18",
   "metadata": {},
   "source": [
    "##### 2. Write a Python program for removing i-th character from a string?"
   ]
  },
  {
   "cell_type": "code",
   "execution_count": 53,
   "id": "499d2d8b",
   "metadata": {
    "scrolled": true
   },
   "outputs": [
    {
     "name": "stdout",
     "output_type": "stream",
     "text": [
      "Enter the character index you want to remove --> 6\n",
      "Final string after removing 6th word --> full stack data science bootcamp May batch of ineuron\n"
     ]
    }
   ],
   "source": [
    "my_string = 'full stack data science bootcamp May 2022 batch of ineuron'\n",
    "my_str_list = my_string.split(' ')\n",
    "i = int(input('Enter the character index you want to remove --> '))\n",
    "\n",
    "for word in range(len(my_string)):\n",
    "    if word == i:\n",
    "        my_str_list.remove(my_str_list[word])\n",
    "        out_string = ' '.join(my_str_list)\n",
    "print(f'Final string after removing {i}th word --> {out_string}')"
   ]
  },
  {
   "cell_type": "code",
   "execution_count": 39,
   "id": "4bbee606",
   "metadata": {
    "scrolled": true
   },
   "outputs": [
    {
     "name": "stdout",
     "output_type": "stream",
     "text": [
      "Enter the character index you want to remove --> 7\n",
      "Final string after removing 7th character --> full stck data science\n"
     ]
    }
   ],
   "source": [
    "my_str =  'full stack data science'\n",
    "i = int(input('Enter the character index you want to remove --> '))\n",
    "\n",
    "final_str = ''\n",
    "\n",
    "for char in range(len(my_str)):\n",
    "    if char != i:\n",
    "        final_str = final_str + my_str[char]\n",
    "\n",
    "print(f'Final string after removing {i}th character --> {final_str}')"
   ]
  },
  {
   "cell_type": "markdown",
   "id": "d10b8f9d",
   "metadata": {},
   "source": [
    "##### 3. Write a Python program to split and join a string?"
   ]
  },
  {
   "cell_type": "code",
   "execution_count": 54,
   "id": "7bf8ae48",
   "metadata": {},
   "outputs": [
    {
     "name": "stdout",
     "output_type": "stream",
     "text": [
      "This is my string after splitting --> ['python', 'is', 'a', 'very', 'interesting', 'language']\n",
      "This is my string after joining --> python is a very interesting language\n"
     ]
    }
   ],
   "source": [
    "myString = 'python is a very interesting language'\n",
    "splitString = myString.split(' ')\n",
    "print(f'This is my string after splitting --> {splitString}')\n",
    "joinedString = ' '.join(splitString)\n",
    "print(f'This is my string after joining --> {joinedString}')"
   ]
  },
  {
   "cell_type": "markdown",
   "id": "d82b1f2c",
   "metadata": {},
   "source": [
    "##### 4. Write a Python to check if a given string is binary string or not?"
   ]
  },
  {
   "cell_type": "code",
   "execution_count": 65,
   "id": "1a15f89d",
   "metadata": {},
   "outputs": [
    {
     "name": "stdout",
     "output_type": "stream",
     "text": [
      "Enter the string -->101101\n",
      "This is a binary string.\n"
     ]
    }
   ],
   "source": [
    "string = input('Enter the string -->')\n",
    "binary =['1','0']\n",
    "flag = 0\n",
    "for i in range(len(string)):\n",
    "    if string[i] in binary:\n",
    "        flag = 1\n",
    "        continue\n",
    "    \n",
    "    else:\n",
    "        flag = 0\n",
    "        continue\n",
    "        \n",
    "stat = 'This is a binary string.' if flag == 1 else 'This is not a binary string.'\n",
    "print(stat)"
   ]
  },
  {
   "cell_type": "markdown",
   "id": "b7cc71f7",
   "metadata": {},
   "source": [
    "##### 5. Write a Python program to find uncommon words from two Strings?"
   ]
  },
  {
   "cell_type": "code",
   "execution_count": 75,
   "id": "848cccf4",
   "metadata": {},
   "outputs": [
    {
     "name": "stdout",
     "output_type": "stream",
     "text": [
      "Enter string 1: data science\n",
      "Enter string 2: data analytics\n",
      "{'science', 'analytics'}\n"
     ]
    }
   ],
   "source": [
    "def uncommon_words():\n",
    "    string_1 = input(\"Enter string 1: \")\n",
    "    string_2 = input(\"Enter string 2: \")\n",
    "    str_set_1 = set(string_1.split(' '))\n",
    "    str_set_2 = set(string_2.split(' '))\n",
    "    result_string = (str_set_1.union(str_set_2)).difference(str_set_1.intersection(str_set_2))\n",
    "    print(result_string)\n",
    "\n",
    "uncommon_words()"
   ]
  },
  {
   "cell_type": "markdown",
   "id": "b43139f9",
   "metadata": {},
   "source": [
    "##### 6. Write a Python to find all duplicate characters in string?"
   ]
  },
  {
   "cell_type": "code",
   "execution_count": 82,
   "id": "3b3c3c7b",
   "metadata": {},
   "outputs": [
    {
     "name": "stdout",
     "output_type": "stream",
     "text": [
      "Enter the string: full stack data science course\n",
      "Duplicate characters are: {'e', 'u', 'c', 's', 'l', 'a', 't'}\n"
     ]
    }
   ],
   "source": [
    "def duplicate_chars():\n",
    "    string = input('Enter the string: ')\n",
    "    non_duplicate_list = []\n",
    "    duplicate_list = []\n",
    "    no_space_string = ''.join(string.split(' '))\n",
    "    for ele in no_space_string:\n",
    "        if ele not in non_duplicate_list:\n",
    "            non_duplicate_list.append(ele)\n",
    "        else:\n",
    "            duplicate_list.append(ele)\n",
    "    print(f'Duplicate characters are: {set(duplicate_list)}')\n",
    "        \n",
    "duplicate_chars()"
   ]
  },
  {
   "cell_type": "markdown",
   "id": "a5f46841",
   "metadata": {},
   "source": [
    "##### 7. Write a Python Program to check if a string contains any special character?"
   ]
  },
  {
   "cell_type": "code",
   "execution_count": 85,
   "id": "5943d29a",
   "metadata": {},
   "outputs": [
    {
     "name": "stdout",
     "output_type": "stream",
     "text": [
      "Enter the string: &5##():{}\n",
      "There are 8 speical characters in &5##():{} which are ['&', '#', '#', '(', ')', ':', '{', '}']\n"
     ]
    }
   ],
   "source": [
    "def check_special_character():\n",
    "    \n",
    "    spl_characters = set(r\"\"\"`~!@#$%^&*()_-+={[}}|\\:;\"'<,>.?/\"\"\")\n",
    "    in_str = input('Enter the string: ')\n",
    "    count = 0\n",
    "    char_list = []\n",
    "    for element in in_str:\n",
    "        if element in spl_characters:\n",
    "            char_list.append(element)\n",
    "            count = count+1\n",
    "    print(f'There are {count} speical characters in {in_str} which are {char_list}')\n",
    "    \n",
    "check_special_character()"
   ]
  }
 ],
 "metadata": {
  "kernelspec": {
   "display_name": "Python 3",
   "language": "python",
   "name": "python3"
  },
  "language_info": {
   "codemirror_mode": {
    "name": "ipython",
    "version": 3
   },
   "file_extension": ".py",
   "mimetype": "text/x-python",
   "name": "python",
   "nbconvert_exporter": "python",
   "pygments_lexer": "ipython3",
   "version": "3.8.8"
  }
 },
 "nbformat": 4,
 "nbformat_minor": 5
}
