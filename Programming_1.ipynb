{
 "cells": [
  {
   "cell_type": "markdown",
   "id": "eaec0e7c",
   "metadata": {},
   "source": [
    "### Programming Assignment 1"
   ]
  },
  {
   "cell_type": "code",
   "execution_count": 1,
   "id": "3b34bc42",
   "metadata": {},
   "outputs": [
    {
     "name": "stdout",
     "output_type": "stream",
     "text": [
      "Hello Python\n"
     ]
    }
   ],
   "source": [
    "# 1.\tWrite a Python program to print \"Hello Python\"?\n",
    "print(\"Hello Python\")"
   ]
  },
  {
   "cell_type": "code",
   "execution_count": 2,
   "id": "93283571",
   "metadata": {},
   "outputs": [
    {
     "name": "stdout",
     "output_type": "stream",
     "text": [
      "9\n",
      "2.0\n",
      "2\n"
     ]
    }
   ],
   "source": [
    "#2.\tWrite a Python program to do arithmetical operations addition and division.?\n",
    "a = 6\n",
    "b = 3\n",
    "print(a + b)     # addition\n",
    "print(a / b)     # aimple division\n",
    "print(a // b)    # floor division"
   ]
  },
  {
   "cell_type": "code",
   "execution_count": 10,
   "id": "208c4576",
   "metadata": {},
   "outputs": [
    {
     "name": "stdout",
     "output_type": "stream",
     "text": [
      "Please enter the base: 4.5\n",
      "Please enter the height: 3.2\n",
      "Area of the triangle with base 4.5 and height 3.2 is: 7.2\n"
     ]
    }
   ],
   "source": [
    "#3.\tWrite a Python program to find the area of a triangle?\n",
    "base = float(input(\"Please enter the base: \"))\n",
    "height = float(input(\"Please enter the height: \"))\n",
    "area = 0.5 * base * height\n",
    "print(\"Area of the triangle with base {} and height {} is: {}\".format(base, height, area))"
   ]
  },
  {
   "cell_type": "code",
   "execution_count": 7,
   "id": "6077ef50",
   "metadata": {},
   "outputs": [
    {
     "name": "stdout",
     "output_type": "stream",
     "text": [
      "The value of a after swapping: 7\n",
      "The value of b after swapping: 5\n"
     ]
    }
   ],
   "source": [
    "#4.\tWrite a Python program to swap two variables?\n",
    "a = 5\n",
    "b = 7\n",
    "temp_var = a\n",
    "a = b\n",
    "b = temp_var\n",
    "\n",
    "print('The value of a after swapping: {}'.format(a))\n",
    "print('The value of b after swapping: {}'.format(b))"
   ]
  },
  {
   "cell_type": "code",
   "execution_count": 1,
   "id": "8cf891bb",
   "metadata": {},
   "outputs": [
    {
     "name": "stdout",
     "output_type": "stream",
     "text": [
      "Enter the starting integer: 34\n",
      "Enter the ending integer: 575\n",
      "389\n"
     ]
    }
   ],
   "source": [
    "#1.\tWrite a Python program to generate a random number?\n",
    "import random\n",
    "\n",
    "start = int(input(\"Enter the starting integer: \"))\n",
    "end = int(input(\"Enter the ending integer: \"))\n",
    "print(random.randint(start, end))"
   ]
  }
 ],
 "metadata": {
  "kernelspec": {
   "display_name": "Python 3",
   "language": "python",
   "name": "python3"
  },
  "language_info": {
   "codemirror_mode": {
    "name": "ipython",
    "version": 3
   },
   "file_extension": ".py",
   "mimetype": "text/x-python",
   "name": "python",
   "nbconvert_exporter": "python",
   "pygments_lexer": "ipython3",
   "version": "3.8.8"
  }
 },
 "nbformat": 4,
 "nbformat_minor": 5
}
