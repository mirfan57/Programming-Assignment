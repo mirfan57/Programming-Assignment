{
 "cells": [
  {
   "cell_type": "markdown",
   "id": "262e3b0c",
   "metadata": {},
   "source": [
    "### Programming Assignment 6"
   ]
  },
  {
   "cell_type": "code",
   "execution_count": 17,
   "id": "40df440d",
   "metadata": {
    "scrolled": true
   },
   "outputs": [
    {
     "data": {
      "text/plain": [
       "[1, 1, 2, 3, 5, 8, 13, 21, 34, 55, 89, 144, 233, 377, 610]"
      ]
     },
     "execution_count": 17,
     "metadata": {},
     "output_type": "execute_result"
    }
   ],
   "source": [
    "#1.\tWrite a Python Program to Display Fibonacci Sequence Using Recursion?\n",
    "\n",
    "def fibonacci(n):\n",
    "    if n == 0 or n == 1:\n",
    "        return 1\n",
    "    else:\n",
    "        return fibonacci(n-1) + fibonacci(n-2)\n",
    "\n",
    "l = []    \n",
    "for i in range(0,15):\n",
    "    l.append(fibonacci(i))\n",
    "l"
   ]
  },
  {
   "cell_type": "code",
   "execution_count": 19,
   "id": "01e479cb",
   "metadata": {},
   "outputs": [
    {
     "data": {
      "text/plain": [
       "720"
      ]
     },
     "execution_count": 19,
     "metadata": {},
     "output_type": "execute_result"
    }
   ],
   "source": [
    "#2.\tWrite a Python Program to Find Factorial of Number Using Recursion?\n",
    "\n",
    "def fact(n):\n",
    "    if n == 0 or n == 1:\n",
    "        return 1\n",
    "    else:\n",
    "        return n*fact(n-1)\n",
    "fact(6)"
   ]
  },
  {
   "cell_type": "code",
   "execution_count": 24,
   "id": "e3961df8",
   "metadata": {},
   "outputs": [
    {
     "name": "stdout",
     "output_type": "stream",
     "text": [
      "Enter your weight in kg - 75\n",
      "Enter your height in mts - 1.8\n",
      "Your BMI is 23.148148148148145 and status is Normal Range. \n"
     ]
    }
   ],
   "source": [
    "#3.\tWrite a Python Program to calculate your Body Mass Index?\n",
    "\n",
    "def bmi():\n",
    "    \n",
    "    wt = float(input(\"Enter your weight in kg - \"))\n",
    "    ht = float(input(\"Enter your height in mts - \"))\n",
    "    formula = wt/((ht)**2)\n",
    "    \n",
    "    if formula < 18.5:\n",
    "        status = \"Underweight\"\n",
    "    elif formula > 18.5 and formula < 24.9:\n",
    "        status = \"Normal Range\"\n",
    "    elif formula > 25.0  and formula < 29.9:\n",
    "        status = \"Overweight\"\n",
    "    else:\n",
    "        status = \"Obese\"\n",
    "    print(f'Your BMI is {formula} and status is {status}. ')\n",
    "\n",
    "bmi()"
   ]
  },
  {
   "cell_type": "code",
   "execution_count": 26,
   "id": "6ea3c730",
   "metadata": {},
   "outputs": [
    {
     "name": "stdout",
     "output_type": "stream",
     "text": [
      "Enter a Number:54\n",
      "Natural logarithm of 54.0 is 3.9889840465642745\n"
     ]
    }
   ],
   "source": [
    "#4.\tWrite a Python Program to calculate the natural logarithm of any number?\n",
    "\n",
    "import math\n",
    "def nlog():\n",
    "    num = float(input(\"Enter a Number:\"))\n",
    "    print(f\"Natural logarithm of {num} is {math.log(num)}\")\n",
    "\n",
    "nlog()"
   ]
  },
  {
   "cell_type": "code",
   "execution_count": 31,
   "id": "6d1077f1",
   "metadata": {},
   "outputs": [
    {
     "name": "stdout",
     "output_type": "stream",
     "text": [
      "Enter value of n: 3\n",
      "Cube sum of first 3 natural numbers is 36.\n"
     ]
    }
   ],
   "source": [
    "#5.\tWrite a Python Program for cube sum of first n natural numbers?\n",
    "\n",
    "num = int(input(\"Enter value of n: \"))\n",
    "cube_sum = 0\n",
    "for i in range(1,num+1):\n",
    "    cube_sum += (i**3)\n",
    "print(f'Cube sum of first {num} natural numbers is {cube_sum}.')"
   ]
  }
 ],
 "metadata": {
  "kernelspec": {
   "display_name": "Python 3",
   "language": "python",
   "name": "python3"
  },
  "language_info": {
   "codemirror_mode": {
    "name": "ipython",
    "version": 3
   },
   "file_extension": ".py",
   "mimetype": "text/x-python",
   "name": "python",
   "nbconvert_exporter": "python",
   "pygments_lexer": "ipython3",
   "version": "3.8.8"
  }
 },
 "nbformat": 4,
 "nbformat_minor": 5
}
