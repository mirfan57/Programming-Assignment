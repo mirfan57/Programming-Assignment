{
 "cells": [
  {
   "cell_type": "markdown",
   "id": "3769510d",
   "metadata": {},
   "source": [
    "### Programming Assignment 9"
   ]
  },
  {
   "cell_type": "markdown",
   "id": "63c7287f",
   "metadata": {},
   "source": [
    "##### 1.\tWrite a Python program to check if the given number is a Disarium Number?"
   ]
  },
  {
   "cell_type": "code",
   "execution_count": 19,
   "id": "ef72091a",
   "metadata": {},
   "outputs": [
    {
     "name": "stdout",
     "output_type": "stream",
     "text": [
      "The number 175 is a Disarium Number.\n"
     ]
    }
   ],
   "source": [
    "# 1**1 + 7**2 + 5**3 = 175\n",
    "\n",
    "num = \"175\" \n",
    "summ = 0\n",
    "for i in range(len(num)):\n",
    "    val = num[i]\n",
    "    summ += (int(val))**(i+1)\n",
    "\n",
    "if summ == int(num):\n",
    "    print(f'The number {num} is a Disarium Number.')\n",
    "else:\n",
    "    print(f'The number {num} is not a Disarium Number.')"
   ]
  },
  {
   "cell_type": "markdown",
   "id": "c3ab7036",
   "metadata": {},
   "source": [
    "##### 2.\tWrite a Python Program to print all Disarium numbers between 1 to 100 ?"
   ]
  },
  {
   "cell_type": "code",
   "execution_count": 6,
   "id": "c7e9ff57",
   "metadata": {
    "scrolled": true
   },
   "outputs": [
    {
     "name": "stdout",
     "output_type": "stream",
     "text": [
      "All disarium numbers between 1 to 100 are [1, 2, 3, 4, 5, 6, 7, 8, 9, 89]\n"
     ]
    }
   ],
   "source": [
    "\n",
    "l = []\n",
    "\n",
    "for i in range(1,101):\n",
    "    k = str(i)\n",
    "    summ = 0\n",
    "    for j in range(len(k)):\n",
    "        val = k[j]\n",
    "        summ += (int(val))**(j+1)\n",
    "        #print(i,j, summ)\n",
    "    l.append(summ)\n",
    "\n",
    "l_dis = []\n",
    "for j in range(len(l)):\n",
    "    if j+1 == l[j]:\n",
    "        l_dis.append(l[j])\n",
    "print(f'All disarium numbers between 1 to 100 are {l_dis}')   "
   ]
  },
  {
   "cell_type": "markdown",
   "id": "23ae2503",
   "metadata": {},
   "source": [
    "##### 3.\tWrite a Python program to check if the given number is Happy Number?"
   ]
  },
  {
   "cell_type": "code",
   "execution_count": 22,
   "id": "20c120ac",
   "metadata": {},
   "outputs": [
    {
     "name": "stdout",
     "output_type": "stream",
     "text": [
      "Enter a number:86\n",
      "86 is a happy number.\n"
     ]
    }
   ],
   "source": [
    "\n",
    "def happy(n):\n",
    "    \n",
    "    rem = 0\n",
    "    summ = 0\n",
    "    while n > 0:\n",
    "        rem = n % 10     # extracts the last digit or remainder = 135 % 10 = 5\n",
    "        summ += rem*rem   \n",
    "        n = n // 10      # extracts first two digits by 135 // 10 = 13\n",
    "    return summ\n",
    "\n",
    "n = int(input(\"Enter a number:\"))\n",
    "res = n\n",
    "while res != 1 and res != 4:\n",
    "    res = happy(res)\n",
    "\n",
    "if res == 1:\n",
    "    print(f'{n} is a happy number.')\n",
    "else:\n",
    "    print(f'{n} is not a happy number.')"
   ]
  },
  {
   "cell_type": "markdown",
   "id": "8febe6fd",
   "metadata": {},
   "source": [
    "##### 4.\tWrite a Python program to print all happy numbers between 1 and 100?"
   ]
  },
  {
   "cell_type": "code",
   "execution_count": 28,
   "id": "16d85ba3",
   "metadata": {},
   "outputs": [
    {
     "name": "stdout",
     "output_type": "stream",
     "text": [
      "List of happy numbers between 1 and 100: \n",
      "1  7  10  13  19  23  28  31  32  44  49  68  70  79  82  86  91  94  97  100  "
     ]
    }
   ],
   "source": [
    "def happy(n):    \n",
    "    rem = 0\n",
    "    summ = 0       \n",
    "    while n > 0:    \n",
    "        rem = n % 10    \n",
    "        summ = summ + rem*rem    \n",
    "        n = n // 10    \n",
    "    return summ    \n",
    "               \n",
    "print(\"List of happy numbers between 1 and 100: \");    \n",
    "for i in range(1, 101):    \n",
    "    res = i    \n",
    "          \n",
    "    while res != 1 and res != 4:    \n",
    "        res = happy(res)    \n",
    "        \n",
    "    if(res == 1):    \n",
    "        print(i,end= \"  \")        "
   ]
  },
  {
   "cell_type": "markdown",
   "id": "f95d3157",
   "metadata": {},
   "source": [
    "##### 5.\tWrite a Python program to determine whether the given number is a Harshad Number?"
   ]
  },
  {
   "cell_type": "code",
   "execution_count": 18,
   "id": "bdee1cac",
   "metadata": {},
   "outputs": [
    {
     "name": "stdout",
     "output_type": "stream",
     "text": [
      "Enter the number:156\n",
      "Number 156 is a Harshad Number.\n"
     ]
    }
   ],
   "source": [
    "#If a number is divisible by the sum of its digits, then it will be known as a Harshad Number\n",
    "\n",
    "num = int(input('Enter the number:'))\n",
    "l=[]\n",
    "for i in str(num):\n",
    "    l.append(i)\n",
    "mat = list(map(lambda x: int(x), l))\n",
    "s = sum(mat)\n",
    "\n",
    "if num % s == 0:\n",
    "    print(f'Number {num} is a Harshad Number.')\n",
    "else:\n",
    "    print(f'Number {num} is not a Harshad Number.')"
   ]
  },
  {
   "cell_type": "markdown",
   "id": "2cd97eb1",
   "metadata": {},
   "source": [
    "##### 6.\tWrite a Python program to print all pronic numbers between 1 and 100?"
   ]
  },
  {
   "cell_type": "code",
   "execution_count": 22,
   "id": "c49a396b",
   "metadata": {},
   "outputs": [
    {
     "data": {
      "text/plain": [
       "[2, 6, 12, 20, 30, 42, 56, 72, 90]"
      ]
     },
     "execution_count": 22,
     "metadata": {},
     "output_type": "execute_result"
    }
   ],
   "source": [
    "# The pronic number is a product of two consecutive integers of the form: n(n+1)\n",
    "\n",
    "pronic_list = []\n",
    "for i in range(1,100):\n",
    "    for j in range(i):\n",
    "        mul = j*(j+1)\n",
    "        if i == mul:\n",
    "            pronic_list.append(i)\n",
    "\n",
    "pronic_list"
   ]
  }
 ],
 "metadata": {
  "kernelspec": {
   "display_name": "Python 3",
   "language": "python",
   "name": "python3"
  },
  "language_info": {
   "codemirror_mode": {
    "name": "ipython",
    "version": 3
   },
   "file_extension": ".py",
   "mimetype": "text/x-python",
   "name": "python",
   "nbconvert_exporter": "python",
   "pygments_lexer": "ipython3",
   "version": "3.8.8"
  }
 },
 "nbformat": 4,
 "nbformat_minor": 5
}
