{
 "cells": [
  {
   "cell_type": "markdown",
   "id": "293f764c",
   "metadata": {},
   "source": [
    "### Programming Assignment 8"
   ]
  },
  {
   "cell_type": "code",
   "execution_count": 3,
   "id": "74634229",
   "metadata": {},
   "outputs": [
    {
     "name": "stdout",
     "output_type": "stream",
     "text": [
      "[4, 7, 5]\n",
      "[8, 3, 13]\n",
      "[12, 10, -2]\n"
     ]
    }
   ],
   "source": [
    "#1.\tWrite a Python Program to Add Two Matrices?\n",
    "\n",
    "a = [[1,2,4],\n",
    "     [5,0,6],\n",
    "     [3,8,-2]]\n",
    "\n",
    "b = [[3,5,1],\n",
    "     [3,3,7],\n",
    "     [9,2,0]]\n",
    "\n",
    "result = [[0,0,0],\n",
    "          [0,0,0],\n",
    "          [0,0,0]]\n",
    "\n",
    "for i in range(len(a)):\n",
    "    for j in range(len(a[0])):\n",
    "        result[i][j] = a[i][j] + b[i][j]\n",
    "\n",
    "for r in result:\n",
    "    print(r)"
   ]
  },
  {
   "cell_type": "code",
   "execution_count": 5,
   "id": "cab04e67",
   "metadata": {},
   "outputs": [
    {
     "name": "stdout",
     "output_type": "stream",
     "text": [
      "[45, 19, 15]\n",
      "[69, 37, 5]\n",
      "[15, 35, 59]\n"
     ]
    }
   ],
   "source": [
    "#2.\tWrite a Python Program to Multiply Two Matrices?\n",
    "\n",
    "a = [[1,2,4],\n",
    "     [5,0,6],\n",
    "     [3,8,-2]]\n",
    "\n",
    "b = [[3,5,1],\n",
    "     [3,3,7],\n",
    "     [9,2,0]]\n",
    "\n",
    "result = [[0,0,0],\n",
    "          [0,0,0],\n",
    "          [0,0,0]]\n",
    "\n",
    "for i in range(len(a)):\n",
    "    for j in range(len(b[0])):\n",
    "        for k in range(len(b)):\n",
    "            result[i][j] += a[i][k] * b[k][j]\n",
    "            #result[i][j] = a[i][0] * b[0][j] + a[i][1] * b[1][j] + a[i][2] * b[2][j]\n",
    "\n",
    "for r in result:\n",
    "    print(r)       "
   ]
  },
  {
   "cell_type": "code",
   "execution_count": null,
   "id": "b9bc3bfe",
   "metadata": {},
   "outputs": [],
   "source": [
    "i = 0 j = 0   i=1 j = 0   i=2 j = 0\n",
    "      j = 1       j = 1       j = 1\n",
    "      j = 2       j = 2       j = 2\n",
    "r00 = a00*b00+a01*b10+a02*b20     r10 = a10*b00+a11*b10+a12*b20   \n",
    "r01 = a00*b01+a01*b11+a02*b21     r11 = a10*b01+a11*b11+a12*b21\n",
    "r02 = a00*b02+a01*b12+a02*b22     r12 = a10*b02+a11*b12+a12*b22 \n"
   ]
  },
  {
   "cell_type": "code",
   "execution_count": 6,
   "id": "76906986",
   "metadata": {},
   "outputs": [
    {
     "name": "stdout",
     "output_type": "stream",
     "text": [
      "[2, 6, 9]\n",
      "[1, 4, 3]\n",
      "[0, 3, 5]\n"
     ]
    }
   ],
   "source": [
    "#3.\tWrite a Python Program to Transpose a Matrix?\n",
    "\n",
    "a = [[2,1,0],\n",
    "    [6,4,3],\n",
    "    [9,3,5]]\n",
    "\n",
    "result = [[0,0,0],\n",
    "         [0,0,0],\n",
    "         [0,0,0]]\n",
    "\n",
    "\n",
    "for i in range(len(a)):\n",
    "    for j in range(len(a[0])):\n",
    "        result[i][j] = a[j][i]\n",
    "\n",
    "for r in result:\n",
    "    print(r)"
   ]
  },
  {
   "cell_type": "code",
   "execution_count": 26,
   "id": "3941e1e6",
   "metadata": {},
   "outputs": [
    {
     "name": "stdout",
     "output_type": "stream",
     "text": [
      "das is my name "
     ]
    }
   ],
   "source": [
    "#4.\tWrite a Python Program to Sort Words in Alphabetic Order?\n",
    "\n",
    "#string = \"my name is das\"\n",
    "\n",
    "string = input(\"Enter a string: \")\n",
    "my_string = string.casefold()\n",
    "words = my_string.split() \n",
    "my_sort = sorted(words)\n",
    "\n",
    "for i in my_sort:\n",
    "    print(i, end=\" \")"
   ]
  },
  {
   "cell_type": "code",
   "execution_count": 29,
   "id": "9e2fc7a3",
   "metadata": {},
   "outputs": [
    {
     "name": "stdout",
     "output_type": "stream",
     "text": [
      "My course name  FSDS  ineuronai\n"
     ]
    }
   ],
   "source": [
    "#5.\tWrite a Python Program to Remove Punctuation From a String?\n",
    "\n",
    "punctuations = '''!()-[]{};:'\"\\,<>./?@#$%^&*_~'''\n",
    "\n",
    "my_str = \"My course name --> FSDS @ (ineuron.ai)!\"\n",
    "\n",
    "# my_str = input(\"Enter a string: \")\n",
    "\n",
    "out_str = \"\"\n",
    "for i in my_str:\n",
    "    if i not in punctuations:\n",
    "        out_str += i\n",
    "\n",
    "print(out_str)"
   ]
  }
 ],
 "metadata": {
  "kernelspec": {
   "display_name": "Python 3",
   "language": "python",
   "name": "python3"
  },
  "language_info": {
   "codemirror_mode": {
    "name": "ipython",
    "version": 3
   },
   "file_extension": ".py",
   "mimetype": "text/x-python",
   "name": "python",
   "nbconvert_exporter": "python",
   "pygments_lexer": "ipython3",
   "version": "3.8.8"
  }
 },
 "nbformat": 4,
 "nbformat_minor": 5
}
